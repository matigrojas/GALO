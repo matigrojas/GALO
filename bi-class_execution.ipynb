{
 "cells": [
  {
   "cell_type": "code",
   "execution_count": 1,
   "metadata": {},
   "outputs": [],
   "source": [
    "from galo import *\n",
    "from selection import *\n",
    "from crossover import GaloCrossoverConfigurable\n",
    "from mutation import UniformMutation\n",
    "from problem import ffnnKFold\n",
    "from metrics import classification_metrics_kfold\n",
    "\n",
    "import time"
   ]
  },
  {
   "cell_type": "code",
   "execution_count": 2,
   "metadata": {},
   "outputs": [],
   "source": [
    "dataset = \"covid19\" #Possible Options: BreastCancer, covid19, \n",
    "#diabetes, echocardiogram, hcc, hepatitis, kidney_disease, Liver, parkinsons, pima-15-an-nn,\n",
    "# SAheart, SPECT, SPECTF, Vertebral, WDBC, WPBC\n",
    "\n",
    "dataset_name = f'{dataset}/{dataset}'\n",
    "route_dataset = \".\\\\data\\\\\""
   ]
  },
  {
   "cell_type": "code",
   "execution_count": 3,
   "metadata": {},
   "outputs": [
    {
     "name": "stdout",
     "output_type": "stream",
     "text": [
      "Progress: 40/10000, Fitness: 0.7627461241675858\n",
      "Progress: 70/10000, Fitness: 0.5699524307920052\n",
      "Progress: 100/10000, Fitness: 0.5353682050423616\n",
      "Progress: 130/10000, Fitness: 0.504265651531081\n",
      "Progress: 160/10000, Fitness: 0.4872391523559333\n",
      "Progress: 190/10000, Fitness: 0.4773247591897517\n"
     ]
    }
   ],
   "source": [
    "problem = ffnnKFold(route_dataset, dataset_name)\n",
    "\n",
    "time_elapsed = time.time()\n",
    "\n",
    "max_evaluations = 10000\n",
    "\n",
    "algorithm = GeneticAntLionOptimizer(\n",
    "    problem=problem,\n",
    "    mutation=UniformMutation(0.01),\n",
    "    selection=RouletteWheelSelection(),\n",
    "    crossover=GaloCrossoverConfigurable(1.0, max_evaluations=max_evaluations,\n",
    "                                                p_elite_start=0.75, p_elite_var=0.3,\n",
    "                                                ratio_start=1.00, ratio_var=0.74),\n",
    ")\n",
    "\n",
    "algorithm.run()\n",
    "time_elapsed = (time.time() - time_elapsed)/60"
   ]
  },
  {
   "cell_type": "code",
   "execution_count": null,
   "metadata": {},
   "outputs": [],
   "source": [
    "result = algorithm.get_result()\n",
    "classification_metrics_kfold(result.variables, route_dataset, dataset_name)"
   ]
  },
  {
   "cell_type": "code",
   "execution_count": null,
   "metadata": {},
   "outputs": [],
   "source": [
    "#Time Elapsed\n",
    "print(f'Time Elapsed: {time_elapsed} min.')"
   ]
  }
 ],
 "metadata": {
  "kernelspec": {
   "display_name": "Python 3",
   "language": "python",
   "name": "python3"
  },
  "language_info": {
   "codemirror_mode": {
    "name": "ipython",
    "version": 3
   },
   "file_extension": ".py",
   "mimetype": "text/x-python",
   "name": "python",
   "nbconvert_exporter": "python",
   "pygments_lexer": "ipython3",
   "version": "3.7.9"
  },
  "orig_nbformat": 4
 },
 "nbformat": 4,
 "nbformat_minor": 2
}
