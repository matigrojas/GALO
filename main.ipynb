{
 "cells": [
  {
   "cell_type": "code",
   "execution_count": 1,
   "metadata": {},
   "outputs": [],
   "source": [
    "from galo import *\n",
    "from selection import *\n",
    "from crossover import *\n",
    "from mutation import *\n",
    "from problem import *\n",
    "from metrics import classification_metrics_kfold"
   ]
  },
  {
   "cell_type": "code",
   "execution_count": 2,
   "metadata": {},
   "outputs": [],
   "source": [
    "dataset = \"BreastCancer\" #Options: BreastCancer, diabetes, Liver, parkinsons, Vertebral\n",
    "dataset_name = f'{dataset}/{dataset}'\n",
    "route_dataset = \".\\\\data\\\\\""
   ]
  },
  {
   "cell_type": "code",
   "execution_count": 3,
   "metadata": {},
   "outputs": [
    {
     "name": "stdout",
     "output_type": "stream",
     "text": [
      "Progress: 40/10000, Fitness: 0.2613225049642575\n",
      "Progress: 70/10000, Fitness: 0.2375294711143497\n",
      "Progress: 100/10000, Fitness: 0.23576465622017584\n",
      "Progress: 130/10000, Fitness: 0.23457121276027518\n",
      "Progress: 160/10000, Fitness: 0.23235022165778543\n",
      "Progress: 190/10000, Fitness: 0.22960369263015923\n",
      "Progress: 220/10000, Fitness: 0.22502981442829156\n",
      "Progress: 250/10000, Fitness: 0.2234628264782299\n",
      "Progress: 280/10000, Fitness: 0.22128291731386324\n",
      "Progress: 310/10000, Fitness: 0.22060559153529993\n",
      "Progress: 340/10000, Fitness: 0.21971075145842053\n",
      "Progress: 370/10000, Fitness: 0.2190940054052529\n",
      "Progress: 400/10000, Fitness: 0.21792732998009362\n",
      "Progress: 430/10000, Fitness: 0.21700740117460407\n",
      "Progress: 460/10000, Fitness: 0.2153967309902296\n",
      "Progress: 490/10000, Fitness: 0.21478817087914867\n",
      "Progress: 520/10000, Fitness: 0.21353458954394638\n",
      "Progress: 550/10000, Fitness: 0.21293269164873552\n",
      "Progress: 580/10000, Fitness: 0.2124494729205369\n",
      "Progress: 610/10000, Fitness: 0.21173410683895133\n",
      "Progress: 640/10000, Fitness: 0.21103906896338526\n",
      "Progress: 670/10000, Fitness: 0.20992146202818698\n",
      "Progress: 700/10000, Fitness: 0.20931543864870386\n",
      "Progress: 730/10000, Fitness: 0.2088973166388858\n",
      "Progress: 760/10000, Fitness: 0.20758958242568112\n",
      "Progress: 790/10000, Fitness: 0.20721420687258227\n",
      "Progress: 820/10000, Fitness: 0.20696582825157733\n"
     ]
    }
   ],
   "source": [
    "problem = ffnnKFold(route_dataset, dataset_name)\n",
    "\n",
    "max_evaluations = 10000\n",
    "\n",
    "algorithm = GeneticAntLionOptimizer(\n",
    "    problem=problem,\n",
    "    mutation=UniformMutation(0.01),\n",
    "    selection=RouletteWheelSelection(),\n",
    "    crossover=GaloCrossoverConfigurable(1.0, max_evaluations=max_evaluations,\n",
    "                                                p_elite_start=0.75, p_elite_var=0.3,\n",
    "                                                ratio_start=1.00, ratio_var=0.74),\n",
    ")\n",
    "\n",
    "algorithm.run()"
   ]
  },
  {
   "cell_type": "code",
   "execution_count": null,
   "metadata": {},
   "outputs": [],
   "source": [
    "#result = algorithm.get_result()\n",
    "#classification_metrics_kfold(result.variables, route_dataset, dataset_name)"
   ]
  }
 ],
 "metadata": {
  "kernelspec": {
   "display_name": "Python 3",
   "language": "python",
   "name": "python3"
  },
  "language_info": {
   "codemirror_mode": {
    "name": "ipython",
    "version": 3
   },
   "file_extension": ".py",
   "mimetype": "text/x-python",
   "name": "python",
   "nbconvert_exporter": "python",
   "pygments_lexer": "ipython3",
   "version": "3.7.9"
  },
  "orig_nbformat": 4
 },
 "nbformat": 4,
 "nbformat_minor": 2
}
